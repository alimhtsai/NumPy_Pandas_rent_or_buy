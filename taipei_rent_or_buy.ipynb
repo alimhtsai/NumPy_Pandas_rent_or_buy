{
 "cells": [
  {
   "cell_type": "code",
   "execution_count": 1,
   "id": "1d3db1ff",
   "metadata": {
    "_cell_guid": "b1076dfc-b9ad-4769-8c92-a6c4dae69d19",
    "_uuid": "8f2839f25d086af736a60e9eeb907d3b93b6e0e5",
    "papermill": {
     "duration": 1.06585,
     "end_time": "2021-12-18T08:18:41.180533",
     "exception": false,
     "start_time": "2021-12-18T08:18:40.114683",
     "status": "completed"
    },
    "tags": []
   },
   "outputs": [],
   "source": [
    "import numpy as np\n",
    "import pandas as pd\n",
    "import matplotlib.pyplot as plt\n",
    "import seaborn as sns\n",
    "from scipy import stats"
   ]
  },
  {
   "cell_type": "code",
   "execution_count": 2,
   "id": "e24945cd-675f-4fee-8144-0eb72cca69a9",
   "metadata": {},
   "outputs": [],
   "source": [
    "from IPython.core.interactiveshell import InteractiveShell\n",
    "InteractiveShell.ast_node_interactivity = 'all'"
   ]
  },
  {
   "cell_type": "markdown",
   "id": "be22d4e2-9b37-49d0-8d39-94f5a815c3fe",
   "metadata": {},
   "source": [
    "## Read buydb.csv and present in DataFrame format"
   ]
  },
  {
   "cell_type": "code",
   "execution_count": 3,
   "id": "72b9c069",
   "metadata": {
    "papermill": {
     "duration": 0.077849,
     "end_time": "2021-12-18T08:18:41.293833",
     "exception": false,
     "start_time": "2021-12-18T08:18:41.215984",
     "status": "completed"
    },
    "tags": []
   },
   "outputs": [
    {
     "data": {
      "text/html": [
       "<div>\n",
       "<style scoped>\n",
       "    .dataframe tbody tr th:only-of-type {\n",
       "        vertical-align: middle;\n",
       "    }\n",
       "\n",
       "    .dataframe tbody tr th {\n",
       "        vertical-align: top;\n",
       "    }\n",
       "\n",
       "    .dataframe thead th {\n",
       "        text-align: right;\n",
       "    }\n",
       "</style>\n",
       "<table border=\"1\" class=\"dataframe\">\n",
       "  <thead>\n",
       "    <tr style=\"text-align: right;\">\n",
       "      <th></th>\n",
       "      <th>mrt_code</th>\n",
       "      <th>mrt_name</th>\n",
       "      <th>address</th>\n",
       "      <th>floor_type</th>\n",
       "      <th>room_num</th>\n",
       "      <th>price</th>\n",
       "      <th>size</th>\n",
       "      <th>floor</th>\n",
       "      <th>parking</th>\n",
       "      <th>link</th>\n",
       "    </tr>\n",
       "  </thead>\n",
       "  <tbody>\n",
       "    <tr>\n",
       "      <th>0</th>\n",
       "      <td>BL18</td>\n",
       "      <td>市政府捷運站</td>\n",
       "      <td>台北市信義區永吉路30巷</td>\n",
       "      <td>整層住家</td>\n",
       "      <td>1</td>\n",
       "      <td>NaN</td>\n",
       "      <td>101.32</td>\n",
       "      <td>4F/4F</td>\n",
       "      <td>無</td>\n",
       "      <td>//rent.591.com.tw/home/house/detail/2/9432834....</td>\n",
       "    </tr>\n",
       "    <tr>\n",
       "      <th>1</th>\n",
       "      <td>R07</td>\n",
       "      <td>東門捷運站</td>\n",
       "      <td>台北市大安區金華街</td>\n",
       "      <td>整層住家</td>\n",
       "      <td>3</td>\n",
       "      <td>NaN</td>\n",
       "      <td>101.64</td>\n",
       "      <td>3F/11F</td>\n",
       "      <td>無</td>\n",
       "      <td>//rent.591.com.tw/home/house/detail/2/9380365....</td>\n",
       "    </tr>\n",
       "    <tr>\n",
       "      <th>2</th>\n",
       "      <td>R02</td>\n",
       "      <td>象山捷運站</td>\n",
       "      <td>台北市信義區信義路五段</td>\n",
       "      <td>整層住家</td>\n",
       "      <td>3</td>\n",
       "      <td>NaN</td>\n",
       "      <td>102.19</td>\n",
       "      <td>21F/27F</td>\n",
       "      <td>無</td>\n",
       "      <td>//rent.591.com.tw/home/house/detail/2/9270178....</td>\n",
       "    </tr>\n",
       "    <tr>\n",
       "      <th>3</th>\n",
       "      <td>BR21</td>\n",
       "      <td>葫洲捷運站</td>\n",
       "      <td>台北市內湖區民權東路六段</td>\n",
       "      <td>整層住家</td>\n",
       "      <td>3</td>\n",
       "      <td>NaN</td>\n",
       "      <td>102.51</td>\n",
       "      <td>6F/14F</td>\n",
       "      <td>無</td>\n",
       "      <td>//rent.591.com.tw/home/house/detail/2/9288753....</td>\n",
       "    </tr>\n",
       "    <tr>\n",
       "      <th>4</th>\n",
       "      <td>R03</td>\n",
       "      <td>台北101/世貿捷運站</td>\n",
       "      <td>台北市信義區基隆路二段</td>\n",
       "      <td>整層住家</td>\n",
       "      <td>10</td>\n",
       "      <td>NaN</td>\n",
       "      <td>102.74</td>\n",
       "      <td>11F/12F</td>\n",
       "      <td>無</td>\n",
       "      <td>//rent.591.com.tw/home/house/detail/2/9445274....</td>\n",
       "    </tr>\n",
       "  </tbody>\n",
       "</table>\n",
       "</div>"
      ],
      "text/plain": [
       "  mrt_code     mrt_name       address floor_type  room_num  price    size  \\\n",
       "0     BL18       市政府捷運站  台北市信義區永吉路30巷       整層住家         1    NaN  101.32   \n",
       "1      R07        東門捷運站     台北市大安區金華街       整層住家         3    NaN  101.64   \n",
       "2      R02        象山捷運站   台北市信義區信義路五段       整層住家         3    NaN  102.19   \n",
       "3     BR21        葫洲捷運站  台北市內湖區民權東路六段       整層住家         3    NaN  102.51   \n",
       "4      R03  台北101/世貿捷運站   台北市信義區基隆路二段       整層住家        10    NaN  102.74   \n",
       "\n",
       "     floor parking                                               link  \n",
       "0    4F/4F       無  //rent.591.com.tw/home/house/detail/2/9432834....  \n",
       "1   3F/11F       無  //rent.591.com.tw/home/house/detail/2/9380365....  \n",
       "2  21F/27F       無  //rent.591.com.tw/home/house/detail/2/9270178....  \n",
       "3   6F/14F       無  //rent.591.com.tw/home/house/detail/2/9288753....  \n",
       "4  11F/12F       無  //rent.591.com.tw/home/house/detail/2/9445274....  "
      ]
     },
     "execution_count": 3,
     "metadata": {},
     "output_type": "execute_result"
    }
   ],
   "source": [
    "buydb = pd.read_csv('dataset/buydb.csv')\n",
    "buydb.head()"
   ]
  },
  {
   "cell_type": "markdown",
   "id": "5635095e-0e65-4d18-9551-4acf97289d2f",
   "metadata": {},
   "source": [
    "## Counting Mrt Code with pandas"
   ]
  },
  {
   "cell_type": "code",
   "execution_count": 4,
   "id": "4211881e-effd-48e9-8943-c3ab4e80ed47",
   "metadata": {},
   "outputs": [
    {
     "name": "stdout",
     "output_type": "stream",
     "text": [
      "<class 'pandas.core.frame.DataFrame'>\n",
      "RangeIndex: 4698 entries, 0 to 4697\n",
      "Data columns (total 10 columns):\n",
      " #   Column      Non-Null Count  Dtype  \n",
      "---  ------      --------------  -----  \n",
      " 0   mrt_code    4698 non-null   object \n",
      " 1   mrt_name    4698 non-null   object \n",
      " 2   address     4698 non-null   object \n",
      " 3   floor_type  4698 non-null   object \n",
      " 4   room_num    4698 non-null   int64  \n",
      " 5   price       4693 non-null   float64\n",
      " 6   size        4698 non-null   float64\n",
      " 7   floor       4698 non-null   object \n",
      " 8   parking     4698 non-null   object \n",
      " 9   link        4698 non-null   object \n",
      "dtypes: float64(2), int64(1), object(7)\n",
      "memory usage: 367.2+ KB\n"
     ]
    }
   ],
   "source": [
    "buydb_frame = pd.DataFrame(buydb)\n",
    "buydb_frame.info()"
   ]
  },
  {
   "cell_type": "code",
   "execution_count": 5,
   "id": "8813bbab-f0a4-44e3-966b-7c59dc51aa4a",
   "metadata": {},
   "outputs": [
    {
     "data": {
      "text/plain": [
       "南京三民捷運站        193\n",
       "中山國小捷運站        187\n",
       "新北投捷運站         174\n",
       "西門捷運站          137\n",
       "台北101/世貿捷運站    125\n",
       "龍山寺捷運站         124\n",
       "松江南京捷運站        121\n",
       "象山捷運站          120\n",
       "松山捷運站          114\n",
       "古亭捷運站          113\n",
       "Name: mrt_name, dtype: int64"
      ]
     },
     "execution_count": 5,
     "metadata": {},
     "output_type": "execute_result"
    }
   ],
   "source": [
    "mrtname_count = buydb_frame['mrt_name'].value_counts()\n",
    "mrtname_count[:10]"
   ]
  },
  {
   "cell_type": "markdown",
   "id": "fecc4267-1ffb-42b1-94f0-2b318d600c5e",
   "metadata": {},
   "source": [
    "## Counting Mrt Code with python"
   ]
  },
  {
   "cell_type": "code",
   "execution_count": 6,
   "id": "56efa240-a99f-412b-94c5-68edec98704f",
   "metadata": {},
   "outputs": [
    {
     "data": {
      "text/plain": [
       "0            市政府捷運站\n",
       "1             東門捷運站\n",
       "2             象山捷運站\n",
       "3             葫洲捷運站\n",
       "4       台北101/世貿捷運站\n",
       "           ...     \n",
       "4693        萬芳醫院捷運站\n",
       "4694      大安森林公園捷運站\n",
       "4695         六張犁捷運站\n",
       "4696         新北投捷運站\n",
       "4697          士林捷運站\n",
       "Name: mrt_name, Length: 4698, dtype: object"
      ]
     },
     "execution_count": 6,
     "metadata": {},
     "output_type": "execute_result"
    }
   ],
   "source": [
    "buydb_mrtname = buydb[buydb.columns[1]] \n",
    "buydb_mrtname"
   ]
  },
  {
   "cell_type": "code",
   "execution_count": 7,
   "id": "b83544d3-1ce7-415c-9a9c-9201ebc5dcd4",
   "metadata": {},
   "outputs": [],
   "source": [
    "def get_counts(sequence):\n",
    "    counts = {}\n",
    "    for x in sequence:\n",
    "        if x in counts:\n",
    "            counts[x] += 1\n",
    "        else:\n",
    "            counts[x] = 1\n",
    "    return counts"
   ]
  },
  {
   "cell_type": "code",
   "execution_count": 8,
   "id": "c246e083-7437-4bd3-b6e7-cb320226bff7",
   "metadata": {},
   "outputs": [
    {
     "data": {
      "text/plain": [
       "{'市政府捷運站': 103,\n",
       " '東門捷運站': 89,\n",
       " '象山捷運站': 120,\n",
       " '葫洲捷運站': 104,\n",
       " '台北101/世貿捷運站': 125,\n",
       " '石牌捷運站': 98,\n",
       " '劍潭捷運站': 37,\n",
       " '中山國小捷運站': 187,\n",
       " '芝山捷運站': 104,\n",
       " '南港軟體園區捷運站': 46,\n",
       " '奇岩捷運站': 65,\n",
       " '南京復興捷運站': 87,\n",
       " '內湖捷運站': 111,\n",
       " '松山捷運站': 114,\n",
       " '新北投捷運站': 174,\n",
       " '永春捷運站': 111,\n",
       " '松江南京捷運站': 121,\n",
       " '中正紀念堂捷運站': 34,\n",
       " '古亭捷運站': 113,\n",
       " '西湖捷運站': 28,\n",
       " '木柵捷運站': 19,\n",
       " '行天宮捷運站': 60,\n",
       " '劍南路捷運站': 23,\n",
       " '中山國中捷運站': 101,\n",
       " '忠孝新生捷運站': 52,\n",
       " '唭哩岸捷運站': 30,\n",
       " '北投捷運站': 62,\n",
       " '信義安和捷運站': 109,\n",
       " '南京三民捷運站': 193,\n",
       " '萬隆捷運站': 30,\n",
       " '雙連捷運站': 88,\n",
       " '善導寺捷運站': 27,\n",
       " '大坪林捷運站': 5,\n",
       " '科技大樓捷運站': 40,\n",
       " '國父紀念館捷運站': 70,\n",
       " '辛亥捷運站': 23,\n",
       " '大直捷運站': 19,\n",
       " '昆陽捷運站': 36,\n",
       " '文德捷運站': 58,\n",
       " '小南門捷運站': 14,\n",
       " '台電大樓捷運站': 66,\n",
       " '動物園捷運站': 14,\n",
       " '萬芳醫院捷運站': 67,\n",
       " '大安捷運站': 51,\n",
       " '忠孝復興捷運站': 82,\n",
       " '台北車站捷運站': 27,\n",
       " '關渡捷運站': 28,\n",
       " '復興崗捷運站': 24,\n",
       " '士林捷運站': 59,\n",
       " '民權西路捷運站': 72,\n",
       " '忠孝敦化捷運站': 107,\n",
       " '中山捷運站': 109,\n",
       " '大安森林公園捷運站': 38,\n",
       " '景美捷運站': 42,\n",
       " '大橋頭捷運站': 42,\n",
       " '公館捷運站': 24,\n",
       " '西門捷運站': 137,\n",
       " '明德捷運站': 41,\n",
       " '麟光捷運站': 26,\n",
       " '台北小巨蛋捷運站': 59,\n",
       " '港墘捷運站': 34,\n",
       " '北門捷運站': 26,\n",
       " '後山埤捷運站': 80,\n",
       " '六張犁捷運站': 74,\n",
       " '松山機場捷運站': 10,\n",
       " '東湖捷運站': 65,\n",
       " '龍山寺捷運站': 124,\n",
       " '南港展覽館捷運站': 48,\n",
       " '圓山捷運站': 37,\n",
       " '萬芳社區捷運站': 9,\n",
       " '大湖公園捷運站': 20,\n",
       " '南港捷運站': 16,\n",
       " '大橋頭站捷運站': 1,\n",
       " '忠義捷運站': 2,\n",
       " '淡水捷運站': 2,\n",
       " '台大醫院捷運站': 2,\n",
       " '三重國小捷運站': 1,\n",
       " '台北小巨蛋\\\\捷運站': 1,\n",
       " '七張捷運站': 1}"
      ]
     },
     "execution_count": 8,
     "metadata": {},
     "output_type": "execute_result"
    }
   ],
   "source": [
    "mrtname_count2 = get_counts(buydb_mrtname)\n",
    "mrtname_count2"
   ]
  },
  {
   "cell_type": "code",
   "execution_count": 9,
   "id": "e544804d-401b-45d6-981d-a0804dc962c1",
   "metadata": {},
   "outputs": [
    {
     "name": "stdout",
     "output_type": "stream",
     "text": [
      "總共幾個捷運站: 79\n"
     ]
    }
   ],
   "source": [
    "print('總共幾個捷運站:', len(mrtname_count2))"
   ]
  },
  {
   "cell_type": "markdown",
   "id": "1190465f-8b8c-47eb-b1f9-3633dd649681",
   "metadata": {},
   "source": [
    "## pandas.DataFrame.dropna"
   ]
  },
  {
   "cell_type": "code",
   "execution_count": 10,
   "id": "35816a0c-51c7-4e46-896c-02af59f2a6b2",
   "metadata": {},
   "outputs": [
    {
     "data": {
      "text/plain": [
       "mrt_code      0\n",
       "mrt_name      0\n",
       "address       0\n",
       "floor_type    0\n",
       "room_num      0\n",
       "price         5\n",
       "size          0\n",
       "floor         0\n",
       "parking       0\n",
       "link          0\n",
       "dtype: int64"
      ]
     },
     "execution_count": 10,
     "metadata": {},
     "output_type": "execute_result"
    }
   ],
   "source": [
    "buydb.isnull().sum()"
   ]
  },
  {
   "cell_type": "code",
   "execution_count": 11,
   "id": "89dad365-9a90-4f14-855c-e32c742cf618",
   "metadata": {},
   "outputs": [
    {
     "data": {
      "text/html": [
       "<div>\n",
       "<style scoped>\n",
       "    .dataframe tbody tr th:only-of-type {\n",
       "        vertical-align: middle;\n",
       "    }\n",
       "\n",
       "    .dataframe tbody tr th {\n",
       "        vertical-align: top;\n",
       "    }\n",
       "\n",
       "    .dataframe thead th {\n",
       "        text-align: right;\n",
       "    }\n",
       "</style>\n",
       "<table border=\"1\" class=\"dataframe\">\n",
       "  <thead>\n",
       "    <tr style=\"text-align: right;\">\n",
       "      <th></th>\n",
       "      <th>mrt_code</th>\n",
       "      <th>mrt_name</th>\n",
       "      <th>address</th>\n",
       "      <th>floor_type</th>\n",
       "      <th>room_num</th>\n",
       "      <th>price</th>\n",
       "      <th>size</th>\n",
       "      <th>floor</th>\n",
       "      <th>parking</th>\n",
       "      <th>link</th>\n",
       "    </tr>\n",
       "  </thead>\n",
       "  <tbody>\n",
       "    <tr>\n",
       "      <th>0</th>\n",
       "      <td>BL18</td>\n",
       "      <td>市政府捷運站</td>\n",
       "      <td>台北市信義區永吉路30巷</td>\n",
       "      <td>整層住家</td>\n",
       "      <td>1</td>\n",
       "      <td>NaN</td>\n",
       "      <td>101.32</td>\n",
       "      <td>4F/4F</td>\n",
       "      <td>無</td>\n",
       "      <td>//rent.591.com.tw/home/house/detail/2/9432834....</td>\n",
       "    </tr>\n",
       "    <tr>\n",
       "      <th>1</th>\n",
       "      <td>R07</td>\n",
       "      <td>東門捷運站</td>\n",
       "      <td>台北市大安區金華街</td>\n",
       "      <td>整層住家</td>\n",
       "      <td>3</td>\n",
       "      <td>NaN</td>\n",
       "      <td>101.64</td>\n",
       "      <td>3F/11F</td>\n",
       "      <td>無</td>\n",
       "      <td>//rent.591.com.tw/home/house/detail/2/9380365....</td>\n",
       "    </tr>\n",
       "    <tr>\n",
       "      <th>2</th>\n",
       "      <td>R02</td>\n",
       "      <td>象山捷運站</td>\n",
       "      <td>台北市信義區信義路五段</td>\n",
       "      <td>整層住家</td>\n",
       "      <td>3</td>\n",
       "      <td>NaN</td>\n",
       "      <td>102.19</td>\n",
       "      <td>21F/27F</td>\n",
       "      <td>無</td>\n",
       "      <td>//rent.591.com.tw/home/house/detail/2/9270178....</td>\n",
       "    </tr>\n",
       "    <tr>\n",
       "      <th>3</th>\n",
       "      <td>BR21</td>\n",
       "      <td>葫洲捷運站</td>\n",
       "      <td>台北市內湖區民權東路六段</td>\n",
       "      <td>整層住家</td>\n",
       "      <td>3</td>\n",
       "      <td>NaN</td>\n",
       "      <td>102.51</td>\n",
       "      <td>6F/14F</td>\n",
       "      <td>無</td>\n",
       "      <td>//rent.591.com.tw/home/house/detail/2/9288753....</td>\n",
       "    </tr>\n",
       "    <tr>\n",
       "      <th>4</th>\n",
       "      <td>R03</td>\n",
       "      <td>台北101/世貿捷運站</td>\n",
       "      <td>台北市信義區基隆路二段</td>\n",
       "      <td>整層住家</td>\n",
       "      <td>10</td>\n",
       "      <td>NaN</td>\n",
       "      <td>102.74</td>\n",
       "      <td>11F/12F</td>\n",
       "      <td>無</td>\n",
       "      <td>//rent.591.com.tw/home/house/detail/2/9445274....</td>\n",
       "    </tr>\n",
       "    <tr>\n",
       "      <th>...</th>\n",
       "      <td>...</td>\n",
       "      <td>...</td>\n",
       "      <td>...</td>\n",
       "      <td>...</td>\n",
       "      <td>...</td>\n",
       "      <td>...</td>\n",
       "      <td>...</td>\n",
       "      <td>...</td>\n",
       "      <td>...</td>\n",
       "      <td>...</td>\n",
       "    </tr>\n",
       "    <tr>\n",
       "      <th>4693</th>\n",
       "      <td>BR04</td>\n",
       "      <td>萬芳醫院捷運站</td>\n",
       "      <td>台北市文山區興隆路三段</td>\n",
       "      <td>套房</td>\n",
       "      <td>1</td>\n",
       "      <td>17900.0</td>\n",
       "      <td>11.71</td>\n",
       "      <td>6F/10F</td>\n",
       "      <td>無</td>\n",
       "      <td>//rent.591.com.tw/home/house/detail/2/9349910....</td>\n",
       "    </tr>\n",
       "    <tr>\n",
       "      <th>4694</th>\n",
       "      <td>R06</td>\n",
       "      <td>大安森林公園捷運站</td>\n",
       "      <td>台北市大安區信義路三段</td>\n",
       "      <td>套房</td>\n",
       "      <td>1</td>\n",
       "      <td>33400.0</td>\n",
       "      <td>11.78</td>\n",
       "      <td>4F/12F</td>\n",
       "      <td>無</td>\n",
       "      <td>//rent.591.com.tw/home/house/detail/2/9115548....</td>\n",
       "    </tr>\n",
       "    <tr>\n",
       "      <th>4695</th>\n",
       "      <td>BR07</td>\n",
       "      <td>六張犁捷運站</td>\n",
       "      <td>台北市大安區和平東路三段106號</td>\n",
       "      <td>套房</td>\n",
       "      <td>1</td>\n",
       "      <td>26400.0</td>\n",
       "      <td>11.87</td>\n",
       "      <td>4F/12F</td>\n",
       "      <td>無</td>\n",
       "      <td>//rent.591.com.tw/home/house/detail/2/9443848....</td>\n",
       "    </tr>\n",
       "    <tr>\n",
       "      <th>4696</th>\n",
       "      <td>R22A</td>\n",
       "      <td>新北投捷運站</td>\n",
       "      <td>台北市北投區泉源路</td>\n",
       "      <td>套房</td>\n",
       "      <td>1</td>\n",
       "      <td>11700.0</td>\n",
       "      <td>11.98</td>\n",
       "      <td>9F/11F</td>\n",
       "      <td>無</td>\n",
       "      <td>//rent.591.com.tw/home/house/detail/2/9285528....</td>\n",
       "    </tr>\n",
       "    <tr>\n",
       "      <th>4697</th>\n",
       "      <td>R16</td>\n",
       "      <td>士林捷運站</td>\n",
       "      <td>台北市士林區基河路</td>\n",
       "      <td>套房</td>\n",
       "      <td>1</td>\n",
       "      <td>18300.0</td>\n",
       "      <td>11.90</td>\n",
       "      <td>7F/7F</td>\n",
       "      <td>無</td>\n",
       "      <td>//rent.591.com.tw/home/house/detail/2/9428394....</td>\n",
       "    </tr>\n",
       "  </tbody>\n",
       "</table>\n",
       "<p>4698 rows × 10 columns</p>\n",
       "</div>"
      ],
      "text/plain": [
       "     mrt_code     mrt_name           address floor_type  room_num    price  \\\n",
       "0        BL18       市政府捷運站      台北市信義區永吉路30巷       整層住家         1      NaN   \n",
       "1         R07        東門捷運站         台北市大安區金華街       整層住家         3      NaN   \n",
       "2         R02        象山捷運站       台北市信義區信義路五段       整層住家         3      NaN   \n",
       "3        BR21        葫洲捷運站      台北市內湖區民權東路六段       整層住家         3      NaN   \n",
       "4         R03  台北101/世貿捷運站       台北市信義區基隆路二段       整層住家        10      NaN   \n",
       "...       ...          ...               ...        ...       ...      ...   \n",
       "4693     BR04      萬芳醫院捷運站       台北市文山區興隆路三段         套房         1  17900.0   \n",
       "4694      R06    大安森林公園捷運站       台北市大安區信義路三段         套房         1  33400.0   \n",
       "4695     BR07       六張犁捷運站  台北市大安區和平東路三段106號         套房         1  26400.0   \n",
       "4696     R22A       新北投捷運站         台北市北投區泉源路         套房         1  11700.0   \n",
       "4697      R16        士林捷運站         台北市士林區基河路         套房         1  18300.0   \n",
       "\n",
       "        size    floor parking  \\\n",
       "0     101.32    4F/4F       無   \n",
       "1     101.64   3F/11F       無   \n",
       "2     102.19  21F/27F       無   \n",
       "3     102.51   6F/14F       無   \n",
       "4     102.74  11F/12F       無   \n",
       "...      ...      ...     ...   \n",
       "4693   11.71   6F/10F       無   \n",
       "4694   11.78   4F/12F       無   \n",
       "4695   11.87   4F/12F       無   \n",
       "4696   11.98   9F/11F       無   \n",
       "4697   11.90    7F/7F       無   \n",
       "\n",
       "                                                   link  \n",
       "0     //rent.591.com.tw/home/house/detail/2/9432834....  \n",
       "1     //rent.591.com.tw/home/house/detail/2/9380365....  \n",
       "2     //rent.591.com.tw/home/house/detail/2/9270178....  \n",
       "3     //rent.591.com.tw/home/house/detail/2/9288753....  \n",
       "4     //rent.591.com.tw/home/house/detail/2/9445274....  \n",
       "...                                                 ...  \n",
       "4693  //rent.591.com.tw/home/house/detail/2/9349910....  \n",
       "4694  //rent.591.com.tw/home/house/detail/2/9115548....  \n",
       "4695  //rent.591.com.tw/home/house/detail/2/9443848....  \n",
       "4696  //rent.591.com.tw/home/house/detail/2/9285528....  \n",
       "4697  //rent.591.com.tw/home/house/detail/2/9428394....  \n",
       "\n",
       "[4698 rows x 10 columns]"
      ]
     },
     "execution_count": 11,
     "metadata": {},
     "output_type": "execute_result"
    },
    {
     "data": {
      "text/html": [
       "<div>\n",
       "<style scoped>\n",
       "    .dataframe tbody tr th:only-of-type {\n",
       "        vertical-align: middle;\n",
       "    }\n",
       "\n",
       "    .dataframe tbody tr th {\n",
       "        vertical-align: top;\n",
       "    }\n",
       "\n",
       "    .dataframe thead th {\n",
       "        text-align: right;\n",
       "    }\n",
       "</style>\n",
       "<table border=\"1\" class=\"dataframe\">\n",
       "  <thead>\n",
       "    <tr style=\"text-align: right;\">\n",
       "      <th></th>\n",
       "      <th>mrt_code</th>\n",
       "      <th>mrt_name</th>\n",
       "      <th>address</th>\n",
       "      <th>floor_type</th>\n",
       "      <th>room_num</th>\n",
       "      <th>price</th>\n",
       "      <th>size</th>\n",
       "      <th>floor</th>\n",
       "      <th>parking</th>\n",
       "      <th>link</th>\n",
       "    </tr>\n",
       "  </thead>\n",
       "  <tbody>\n",
       "    <tr>\n",
       "      <th>5</th>\n",
       "      <td>R19</td>\n",
       "      <td>石牌捷運站</td>\n",
       "      <td>台北市北投區石牌路二段</td>\n",
       "      <td>整層住家</td>\n",
       "      <td>4</td>\n",
       "      <td>193000.0</td>\n",
       "      <td>100.02</td>\n",
       "      <td>7F/12F</td>\n",
       "      <td>無</td>\n",
       "      <td>//rent.591.com.tw/home/house/detail/2/9408127....</td>\n",
       "    </tr>\n",
       "    <tr>\n",
       "      <th>6</th>\n",
       "      <td>R15</td>\n",
       "      <td>劍潭捷運站</td>\n",
       "      <td>台北市士林區菁山路</td>\n",
       "      <td>整層住家</td>\n",
       "      <td>4</td>\n",
       "      <td>99100.0</td>\n",
       "      <td>100.08</td>\n",
       "      <td>3F/6F</td>\n",
       "      <td>無</td>\n",
       "      <td>//rent.591.com.tw/home/house/detail/2/9299165....</td>\n",
       "    </tr>\n",
       "    <tr>\n",
       "      <th>7</th>\n",
       "      <td>O10</td>\n",
       "      <td>中山國小捷運站</td>\n",
       "      <td>台北市中山區民權東路一段</td>\n",
       "      <td>整層住家</td>\n",
       "      <td>4</td>\n",
       "      <td>199900.0</td>\n",
       "      <td>100.26</td>\n",
       "      <td>2F/16F</td>\n",
       "      <td>無</td>\n",
       "      <td>//rent.591.com.tw/home/house/detail/2/9364169....</td>\n",
       "    </tr>\n",
       "    <tr>\n",
       "      <th>8</th>\n",
       "      <td>O10</td>\n",
       "      <td>中山國小捷運站</td>\n",
       "      <td>台北市中山區民權東路一段</td>\n",
       "      <td>整層住家</td>\n",
       "      <td>1</td>\n",
       "      <td>188500.0</td>\n",
       "      <td>100.27</td>\n",
       "      <td>13F/16F</td>\n",
       "      <td>無</td>\n",
       "      <td>//rent.591.com.tw/home/house/detail/2/9363137....</td>\n",
       "    </tr>\n",
       "    <tr>\n",
       "      <th>9</th>\n",
       "      <td>R17</td>\n",
       "      <td>芝山捷運站</td>\n",
       "      <td>台北市士林區中山北路七段181巷</td>\n",
       "      <td>整層住家</td>\n",
       "      <td>5</td>\n",
       "      <td>241300.0</td>\n",
       "      <td>100.55</td>\n",
       "      <td>3F/5F</td>\n",
       "      <td>無</td>\n",
       "      <td>//rent.591.com.tw/home/house/detail/2/9209040....</td>\n",
       "    </tr>\n",
       "    <tr>\n",
       "      <th>...</th>\n",
       "      <td>...</td>\n",
       "      <td>...</td>\n",
       "      <td>...</td>\n",
       "      <td>...</td>\n",
       "      <td>...</td>\n",
       "      <td>...</td>\n",
       "      <td>...</td>\n",
       "      <td>...</td>\n",
       "      <td>...</td>\n",
       "      <td>...</td>\n",
       "    </tr>\n",
       "    <tr>\n",
       "      <th>4693</th>\n",
       "      <td>BR04</td>\n",
       "      <td>萬芳醫院捷運站</td>\n",
       "      <td>台北市文山區興隆路三段</td>\n",
       "      <td>套房</td>\n",
       "      <td>1</td>\n",
       "      <td>17900.0</td>\n",
       "      <td>11.71</td>\n",
       "      <td>6F/10F</td>\n",
       "      <td>無</td>\n",
       "      <td>//rent.591.com.tw/home/house/detail/2/9349910....</td>\n",
       "    </tr>\n",
       "    <tr>\n",
       "      <th>4694</th>\n",
       "      <td>R06</td>\n",
       "      <td>大安森林公園捷運站</td>\n",
       "      <td>台北市大安區信義路三段</td>\n",
       "      <td>套房</td>\n",
       "      <td>1</td>\n",
       "      <td>33400.0</td>\n",
       "      <td>11.78</td>\n",
       "      <td>4F/12F</td>\n",
       "      <td>無</td>\n",
       "      <td>//rent.591.com.tw/home/house/detail/2/9115548....</td>\n",
       "    </tr>\n",
       "    <tr>\n",
       "      <th>4695</th>\n",
       "      <td>BR07</td>\n",
       "      <td>六張犁捷運站</td>\n",
       "      <td>台北市大安區和平東路三段106號</td>\n",
       "      <td>套房</td>\n",
       "      <td>1</td>\n",
       "      <td>26400.0</td>\n",
       "      <td>11.87</td>\n",
       "      <td>4F/12F</td>\n",
       "      <td>無</td>\n",
       "      <td>//rent.591.com.tw/home/house/detail/2/9443848....</td>\n",
       "    </tr>\n",
       "    <tr>\n",
       "      <th>4696</th>\n",
       "      <td>R22A</td>\n",
       "      <td>新北投捷運站</td>\n",
       "      <td>台北市北投區泉源路</td>\n",
       "      <td>套房</td>\n",
       "      <td>1</td>\n",
       "      <td>11700.0</td>\n",
       "      <td>11.98</td>\n",
       "      <td>9F/11F</td>\n",
       "      <td>無</td>\n",
       "      <td>//rent.591.com.tw/home/house/detail/2/9285528....</td>\n",
       "    </tr>\n",
       "    <tr>\n",
       "      <th>4697</th>\n",
       "      <td>R16</td>\n",
       "      <td>士林捷運站</td>\n",
       "      <td>台北市士林區基河路</td>\n",
       "      <td>套房</td>\n",
       "      <td>1</td>\n",
       "      <td>18300.0</td>\n",
       "      <td>11.90</td>\n",
       "      <td>7F/7F</td>\n",
       "      <td>無</td>\n",
       "      <td>//rent.591.com.tw/home/house/detail/2/9428394....</td>\n",
       "    </tr>\n",
       "  </tbody>\n",
       "</table>\n",
       "<p>4693 rows × 10 columns</p>\n",
       "</div>"
      ],
      "text/plain": [
       "     mrt_code   mrt_name           address floor_type  room_num     price  \\\n",
       "5         R19      石牌捷運站       台北市北投區石牌路二段       整層住家         4  193000.0   \n",
       "6         R15      劍潭捷運站         台北市士林區菁山路       整層住家         4   99100.0   \n",
       "7         O10    中山國小捷運站      台北市中山區民權東路一段       整層住家         4  199900.0   \n",
       "8         O10    中山國小捷運站      台北市中山區民權東路一段       整層住家         1  188500.0   \n",
       "9         R17      芝山捷運站  台北市士林區中山北路七段181巷       整層住家         5  241300.0   \n",
       "...       ...        ...               ...        ...       ...       ...   \n",
       "4693     BR04    萬芳醫院捷運站       台北市文山區興隆路三段         套房         1   17900.0   \n",
       "4694      R06  大安森林公園捷運站       台北市大安區信義路三段         套房         1   33400.0   \n",
       "4695     BR07     六張犁捷運站  台北市大安區和平東路三段106號         套房         1   26400.0   \n",
       "4696     R22A     新北投捷運站         台北市北投區泉源路         套房         1   11700.0   \n",
       "4697      R16      士林捷運站         台北市士林區基河路         套房         1   18300.0   \n",
       "\n",
       "        size    floor parking  \\\n",
       "5     100.02   7F/12F       無   \n",
       "6     100.08    3F/6F       無   \n",
       "7     100.26   2F/16F       無   \n",
       "8     100.27  13F/16F       無   \n",
       "9     100.55    3F/5F       無   \n",
       "...      ...      ...     ...   \n",
       "4693   11.71   6F/10F       無   \n",
       "4694   11.78   4F/12F       無   \n",
       "4695   11.87   4F/12F       無   \n",
       "4696   11.98   9F/11F       無   \n",
       "4697   11.90    7F/7F       無   \n",
       "\n",
       "                                                   link  \n",
       "5     //rent.591.com.tw/home/house/detail/2/9408127....  \n",
       "6     //rent.591.com.tw/home/house/detail/2/9299165....  \n",
       "7     //rent.591.com.tw/home/house/detail/2/9364169....  \n",
       "8     //rent.591.com.tw/home/house/detail/2/9363137....  \n",
       "9     //rent.591.com.tw/home/house/detail/2/9209040....  \n",
       "...                                                 ...  \n",
       "4693  //rent.591.com.tw/home/house/detail/2/9349910....  \n",
       "4694  //rent.591.com.tw/home/house/detail/2/9115548....  \n",
       "4695  //rent.591.com.tw/home/house/detail/2/9443848....  \n",
       "4696  //rent.591.com.tw/home/house/detail/2/9285528....  \n",
       "4697  //rent.591.com.tw/home/house/detail/2/9428394....  \n",
       "\n",
       "[4693 rows x 10 columns]"
      ]
     },
     "execution_count": 11,
     "metadata": {},
     "output_type": "execute_result"
    }
   ],
   "source": [
    "buydb_cleaned = buydb.dropna()\n",
    "buydb\n",
    "buydb_cleaned"
   ]
  },
  {
   "cell_type": "markdown",
   "id": "63eb3fc9-e53c-494e-a0ab-c74b0fc1055a",
   "metadata": {},
   "source": [
    "## Discretization and Binning"
   ]
  },
  {
   "cell_type": "code",
   "execution_count": 12,
   "id": "760f7b61-5e9d-4bdf-9ca0-692b1151d49f",
   "metadata": {},
   "outputs": [
    {
     "data": {
      "text/plain": [
       "5       193000.0\n",
       "6        99100.0\n",
       "7       199900.0\n",
       "8       188500.0\n",
       "9       241300.0\n",
       "          ...   \n",
       "4693     17900.0\n",
       "4694     33400.0\n",
       "4695     26400.0\n",
       "4696     11700.0\n",
       "4697     18300.0\n",
       "Name: price, Length: 4693, dtype: float64"
      ]
     },
     "execution_count": 12,
     "metadata": {},
     "output_type": "execute_result"
    }
   ],
   "source": [
    "buydb_price = buydb_cleaned[buydb_cleaned.columns[5]]\n",
    "buydb_price"
   ]
  },
  {
   "cell_type": "code",
   "execution_count": 13,
   "id": "9e12cce2-c3eb-46f2-a9b1-f28cbb336740",
   "metadata": {},
   "outputs": [
    {
     "data": {
      "text/plain": [
       "5       (100000, 300000]\n",
       "6        (50000, 100000]\n",
       "7       (100000, 300000]\n",
       "8       (100000, 300000]\n",
       "9       (100000, 300000]\n",
       "              ...       \n",
       "4693      (10000, 30000]\n",
       "4694      (30000, 50000]\n",
       "4695      (10000, 30000]\n",
       "4696      (10000, 30000]\n",
       "4697      (10000, 30000]\n",
       "Name: price, Length: 4693, dtype: category\n",
       "Categories (7, interval[int64]): [(0, 10000] < (10000, 30000] < (30000, 50000] < (50000, 100000] < (100000, 300000] < (300000, 500000] < (500000, 800000]]"
      ]
     },
     "execution_count": 13,
     "metadata": {},
     "output_type": "execute_result"
    }
   ],
   "source": [
    "price_bins = [0, 10000, 30000, 50000, 100000, 300000, 500000, 800000]\n",
    "buydb_cats = pd.cut(buydb_price, price_bins)\n",
    "buydb_cats"
   ]
  },
  {
   "cell_type": "code",
   "execution_count": 14,
   "id": "52bd9513-c4d5-4fb6-8331-f8449c4a0fba",
   "metadata": {},
   "outputs": [
    {
     "data": {
      "text/plain": [
       "(50000, 100000]     1714\n",
       "(100000, 300000]    1126\n",
       "(30000, 50000]      1057\n",
       "(10000, 30000]       603\n",
       "(300000, 500000]      97\n",
       "(0, 10000]            43\n",
       "(500000, 800000]      42\n",
       "Name: price, dtype: int64"
      ]
     },
     "execution_count": 14,
     "metadata": {},
     "output_type": "execute_result"
    }
   ],
   "source": [
    "pd.value_counts(buydb_cats)"
   ]
  },
  {
   "cell_type": "markdown",
   "id": "5a6d97f2-a002-45b9-8734-6cac14cee550",
   "metadata": {},
   "source": [
    "## Merge a Series and a DataFrame"
   ]
  },
  {
   "cell_type": "code",
   "execution_count": 15,
   "id": "f127dc49-99a3-43c3-9d1d-fb010a4b6a8c",
   "metadata": {},
   "outputs": [
    {
     "data": {
      "text/html": [
       "<div>\n",
       "<style scoped>\n",
       "    .dataframe tbody tr th:only-of-type {\n",
       "        vertical-align: middle;\n",
       "    }\n",
       "\n",
       "    .dataframe tbody tr th {\n",
       "        vertical-align: top;\n",
       "    }\n",
       "\n",
       "    .dataframe thead th {\n",
       "        text-align: right;\n",
       "    }\n",
       "</style>\n",
       "<table border=\"1\" class=\"dataframe\">\n",
       "  <thead>\n",
       "    <tr style=\"text-align: right;\">\n",
       "      <th></th>\n",
       "      <th>mrt_code</th>\n",
       "      <th>mrt_name</th>\n",
       "      <th>address</th>\n",
       "      <th>floor_type</th>\n",
       "      <th>room_num</th>\n",
       "      <th>price</th>\n",
       "      <th>size</th>\n",
       "      <th>floor</th>\n",
       "      <th>parking</th>\n",
       "      <th>link</th>\n",
       "    </tr>\n",
       "  </thead>\n",
       "  <tbody>\n",
       "    <tr>\n",
       "      <th>5</th>\n",
       "      <td>R19</td>\n",
       "      <td>石牌捷運站</td>\n",
       "      <td>台北市北投區石牌路二段</td>\n",
       "      <td>整層住家</td>\n",
       "      <td>4</td>\n",
       "      <td>193000.0</td>\n",
       "      <td>100.02</td>\n",
       "      <td>7F/12F</td>\n",
       "      <td>無</td>\n",
       "      <td>//rent.591.com.tw/home/house/detail/2/9408127....</td>\n",
       "    </tr>\n",
       "    <tr>\n",
       "      <th>6</th>\n",
       "      <td>R15</td>\n",
       "      <td>劍潭捷運站</td>\n",
       "      <td>台北市士林區菁山路</td>\n",
       "      <td>整層住家</td>\n",
       "      <td>4</td>\n",
       "      <td>99100.0</td>\n",
       "      <td>100.08</td>\n",
       "      <td>3F/6F</td>\n",
       "      <td>無</td>\n",
       "      <td>//rent.591.com.tw/home/house/detail/2/9299165....</td>\n",
       "    </tr>\n",
       "    <tr>\n",
       "      <th>7</th>\n",
       "      <td>O10</td>\n",
       "      <td>中山國小捷運站</td>\n",
       "      <td>台北市中山區民權東路一段</td>\n",
       "      <td>整層住家</td>\n",
       "      <td>4</td>\n",
       "      <td>199900.0</td>\n",
       "      <td>100.26</td>\n",
       "      <td>2F/16F</td>\n",
       "      <td>無</td>\n",
       "      <td>//rent.591.com.tw/home/house/detail/2/9364169....</td>\n",
       "    </tr>\n",
       "    <tr>\n",
       "      <th>8</th>\n",
       "      <td>O10</td>\n",
       "      <td>中山國小捷運站</td>\n",
       "      <td>台北市中山區民權東路一段</td>\n",
       "      <td>整層住家</td>\n",
       "      <td>1</td>\n",
       "      <td>188500.0</td>\n",
       "      <td>100.27</td>\n",
       "      <td>13F/16F</td>\n",
       "      <td>無</td>\n",
       "      <td>//rent.591.com.tw/home/house/detail/2/9363137....</td>\n",
       "    </tr>\n",
       "    <tr>\n",
       "      <th>9</th>\n",
       "      <td>R17</td>\n",
       "      <td>芝山捷運站</td>\n",
       "      <td>台北市士林區中山北路七段181巷</td>\n",
       "      <td>整層住家</td>\n",
       "      <td>5</td>\n",
       "      <td>241300.0</td>\n",
       "      <td>100.55</td>\n",
       "      <td>3F/5F</td>\n",
       "      <td>無</td>\n",
       "      <td>//rent.591.com.tw/home/house/detail/2/9209040....</td>\n",
       "    </tr>\n",
       "    <tr>\n",
       "      <th>10</th>\n",
       "      <td>BR23</td>\n",
       "      <td>南港軟體園區捷運站</td>\n",
       "      <td>台北市南港區經貿二路235巷</td>\n",
       "      <td>整層住家</td>\n",
       "      <td>3</td>\n",
       "      <td>214600.0</td>\n",
       "      <td>100.83</td>\n",
       "      <td>11F/21F</td>\n",
       "      <td>無</td>\n",
       "      <td>//rent.591.com.tw/home/house/detail/2/9360200....</td>\n",
       "    </tr>\n",
       "    <tr>\n",
       "      <th>11</th>\n",
       "      <td>BR23</td>\n",
       "      <td>南港軟體園區捷運站</td>\n",
       "      <td>台北市南港區經貿二路235巷</td>\n",
       "      <td>整層住家</td>\n",
       "      <td>3</td>\n",
       "      <td>215100.0</td>\n",
       "      <td>100.83</td>\n",
       "      <td>11F/21F</td>\n",
       "      <td>無</td>\n",
       "      <td>//rent.591.com.tw/home/house/detail/2/9310228....</td>\n",
       "    </tr>\n",
       "    <tr>\n",
       "      <th>12</th>\n",
       "      <td>R21</td>\n",
       "      <td>奇岩捷運站</td>\n",
       "      <td>台北市北投區三合街一段36巷</td>\n",
       "      <td>整層住家</td>\n",
       "      <td>4</td>\n",
       "      <td>157100.0</td>\n",
       "      <td>100.84</td>\n",
       "      <td>5F/9F</td>\n",
       "      <td>無</td>\n",
       "      <td>//rent.591.com.tw/home/house/detail/2/9427519....</td>\n",
       "    </tr>\n",
       "    <tr>\n",
       "      <th>13</th>\n",
       "      <td>R21</td>\n",
       "      <td>奇岩捷運站</td>\n",
       "      <td>台北市北投區三合街一段36巷</td>\n",
       "      <td>整層住家</td>\n",
       "      <td>4</td>\n",
       "      <td>169100.0</td>\n",
       "      <td>100.86</td>\n",
       "      <td>7F/9F</td>\n",
       "      <td>無</td>\n",
       "      <td>//rent.591.com.tw/home/house/detail/2/9369231....</td>\n",
       "    </tr>\n",
       "    <tr>\n",
       "      <th>14</th>\n",
       "      <td>BR11</td>\n",
       "      <td>南京復興捷運站</td>\n",
       "      <td>台北市松山區敦化北路</td>\n",
       "      <td>整層住家</td>\n",
       "      <td>3</td>\n",
       "      <td>570300.0</td>\n",
       "      <td>100.89</td>\n",
       "      <td>16F/23F</td>\n",
       "      <td>無</td>\n",
       "      <td>//rent.591.com.tw/home/house/detail/2/9257177....</td>\n",
       "    </tr>\n",
       "  </tbody>\n",
       "</table>\n",
       "</div>"
      ],
      "text/plain": [
       "   mrt_code   mrt_name           address floor_type  room_num     price  \\\n",
       "5       R19      石牌捷運站       台北市北投區石牌路二段       整層住家         4  193000.0   \n",
       "6       R15      劍潭捷運站         台北市士林區菁山路       整層住家         4   99100.0   \n",
       "7       O10    中山國小捷運站      台北市中山區民權東路一段       整層住家         4  199900.0   \n",
       "8       O10    中山國小捷運站      台北市中山區民權東路一段       整層住家         1  188500.0   \n",
       "9       R17      芝山捷運站  台北市士林區中山北路七段181巷       整層住家         5  241300.0   \n",
       "10     BR23  南港軟體園區捷運站    台北市南港區經貿二路235巷       整層住家         3  214600.0   \n",
       "11     BR23  南港軟體園區捷運站    台北市南港區經貿二路235巷       整層住家         3  215100.0   \n",
       "12      R21      奇岩捷運站    台北市北投區三合街一段36巷       整層住家         4  157100.0   \n",
       "13      R21      奇岩捷運站    台北市北投區三合街一段36巷       整層住家         4  169100.0   \n",
       "14     BR11    南京復興捷運站        台北市松山區敦化北路       整層住家         3  570300.0   \n",
       "\n",
       "      size    floor parking                                               link  \n",
       "5   100.02   7F/12F       無  //rent.591.com.tw/home/house/detail/2/9408127....  \n",
       "6   100.08    3F/6F       無  //rent.591.com.tw/home/house/detail/2/9299165....  \n",
       "7   100.26   2F/16F       無  //rent.591.com.tw/home/house/detail/2/9364169....  \n",
       "8   100.27  13F/16F       無  //rent.591.com.tw/home/house/detail/2/9363137....  \n",
       "9   100.55    3F/5F       無  //rent.591.com.tw/home/house/detail/2/9209040....  \n",
       "10  100.83  11F/21F       無  //rent.591.com.tw/home/house/detail/2/9360200....  \n",
       "11  100.83  11F/21F       無  //rent.591.com.tw/home/house/detail/2/9310228....  \n",
       "12  100.84    5F/9F       無  //rent.591.com.tw/home/house/detail/2/9427519....  \n",
       "13  100.86    7F/9F       無  //rent.591.com.tw/home/house/detail/2/9369231....  \n",
       "14  100.89  16F/23F       無  //rent.591.com.tw/home/house/detail/2/9257177....  "
      ]
     },
     "execution_count": 15,
     "metadata": {},
     "output_type": "execute_result"
    },
    {
     "data": {
      "text/plain": [
       "5     (100000, 300000]\n",
       "6      (50000, 100000]\n",
       "7     (100000, 300000]\n",
       "8     (100000, 300000]\n",
       "9     (100000, 300000]\n",
       "10    (100000, 300000]\n",
       "11    (100000, 300000]\n",
       "12    (100000, 300000]\n",
       "13    (100000, 300000]\n",
       "14    (500000, 800000]\n",
       "Name: price, dtype: category\n",
       "Categories (7, interval[int64]): [(0, 10000] < (10000, 30000] < (30000, 50000] < (50000, 100000] < (100000, 300000] < (300000, 500000] < (500000, 800000]]"
      ]
     },
     "execution_count": 15,
     "metadata": {},
     "output_type": "execute_result"
    }
   ],
   "source": [
    "buydb_cleaned[:10] #dataframe\n",
    "buydb_cats[:10] #series"
   ]
  },
  {
   "cell_type": "code",
   "execution_count": 16,
   "id": "33f4d7bf-231f-4538-a440-bfa565a83df3",
   "metadata": {},
   "outputs": [],
   "source": [
    "buydb_cleaned = buydb_cleaned.merge(buydb_cats.rename('price_bins'), left_index=True, right_index=True)\n",
    "# If series is already named,\n",
    "# df.merge(s, left_index=True, right_index=True)"
   ]
  },
  {
   "cell_type": "code",
   "execution_count": 17,
   "id": "b1f0292d-59e7-4fb7-96c3-64d11e488914",
   "metadata": {},
   "outputs": [],
   "source": [
    "writer1 = pd.ExcelWriter('dataset/buydb_cleaned.xlsx')\n",
    "buydb_cleaned.to_excel(writer1, 'Sheet1')\n",
    "writer1.save()"
   ]
  },
  {
   "cell_type": "markdown",
   "id": "d797190d-3786-4f2c-a069-ddb317dac6e9",
   "metadata": {},
   "source": [
    "## Regression plot and ScatterPlotMatrix"
   ]
  },
  {
   "cell_type": "code",
   "execution_count": 18,
   "id": "20a98db4-ed20-4c4c-8303-4337d1ed3db1",
   "metadata": {},
   "outputs": [
    {
     "name": "stderr",
     "output_type": "stream",
     "text": [
      "C:\\Users\\User\\Anaconda3\\envs\\pydata\\lib\\site-packages\\seaborn\\_decorators.py:43: FutureWarning: Pass the following variables as keyword args: x, y. From version 0.12, the only valid positional argument will be `data`, and passing other arguments without an explicit keyword will result in an error or misinterpretation.\n",
      "  FutureWarning\n"
     ]
    },
    {
     "data": {
      "text/plain": [
       "<AxesSubplot:xlabel='room_num', ylabel='price'>"
      ]
     },
     "execution_count": 18,
     "metadata": {},
     "output_type": "execute_result"
    },
    {
     "data": {
      "text/plain": [
       "Text(0.5, 1.0, 'Regression of price and room number in buydb')"
      ]
     },
     "execution_count": 18,
     "metadata": {},
     "output_type": "execute_result"
    },
    {
     "data": {
      "image/png": "[encoded data removed]",
      "text/plain": [
       "<Figure size 432x288 with 1 Axes>"
      ]
     },
     "metadata": {
      "needs_background": "light"
     },
     "output_type": "display_data"
    }
   ],
   "source": [
    "sns.regplot('room_num', 'price', data=buydb_cleaned)\n",
    "plt.title('Regression of price and room number in buydb')"
   ]
  },
  {
   "cell_type": "code",
   "execution_count": 19,
   "id": "fc943dbe-a7ae-41d1-a366-cc17730e7cd6",
   "metadata": {},
   "outputs": [
    {
     "data": {
      "text/plain": [
       "<seaborn.axisgrid.PairGrid at 0x27e855307f0>"
      ]
     },
     "execution_count": 19,
     "metadata": {},
     "output_type": "execute_result"
    },
    {
     "data": {
      "image/png": "[encoded data removed]",
      "text/plain": [
       "<Figure size 540x540 with 12 Axes>"
      ]
     },
     "metadata": {
      "needs_background": "light"
     },
     "output_type": "display_data"
    }
   ],
   "source": [
    "sns.pairplot(buydb_cleaned, diag_kind='kde', plot_kws={'alpha': 0.2})"
   ]
  },
  {
   "cell_type": "markdown",
   "id": "dd269de0-eb5b-4941-bd6f-fa16f68188ee",
   "metadata": {},
   "source": [
    "## pandas.GroupBy"
   ]
  },
  {
   "cell_type": "code",
   "execution_count": 20,
   "id": "b9a45b1c-ec64-462d-bedd-fd3609d635fd",
   "metadata": {},
   "outputs": [
    {
     "data": {
      "text/plain": [
       "<pandas.core.groupby.generic.SeriesGroupBy object at 0x0000027E89C7BFD0>"
      ]
     },
     "execution_count": 20,
     "metadata": {},
     "output_type": "execute_result"
    }
   ],
   "source": [
    "buydb_grouped = buydb_cleaned['price'].groupby(buydb_cleaned['room_num']) #price is grouped by room_num\n",
    "buydb_grouped"
   ]
  },
  {
   "cell_type": "code",
   "execution_count": 21,
   "id": "221f74b3-d65a-4118-a750-79d31cf1cb54",
   "metadata": {},
   "outputs": [
    {
     "data": {
      "text/plain": [
       "Text(0.5, 0, 'Room Number')"
      ]
     },
     "execution_count": 21,
     "metadata": {},
     "output_type": "execute_result"
    },
    {
     "data": {
      "text/plain": [
       "Text(0, 0.5, 'Mean Price')"
      ]
     },
     "execution_count": 21,
     "metadata": {},
     "output_type": "execute_result"
    },
    {
     "data": {
      "text/plain": [
       "room_num\n",
       "1      36511.867704\n",
       "2      67793.788820\n",
       "3      97550.000000\n",
       "4     138568.918919\n",
       "5     158256.018519\n",
       "6     153354.639175\n",
       "7     162503.125000\n",
       "8     263236.842105\n",
       "9     168225.000000\n",
       "10    262033.333333\n",
       "11    248200.000000\n",
       "12    550850.000000\n",
       "14    144700.000000\n",
       "16    181200.000000\n",
       "19    188500.000000\n",
       "25    921850.000000\n",
       "60    628300.000000\n",
       "64    664500.000000\n",
       "Name: price, dtype: float64"
      ]
     },
     "execution_count": 21,
     "metadata": {},
     "output_type": "execute_result"
    },
    {
     "data": {
      "text/plain": [
       "<AxesSubplot:xlabel='room_num', ylabel='Mean Price'>"
      ]
     },
     "execution_count": 21,
     "metadata": {},
     "output_type": "execute_result"
    },
    {
     "data": {
      "text/plain": [
       "Text(0.5, 1.0, 'Mean price of different number of room')"
      ]
     },
     "execution_count": 21,
     "metadata": {},
     "output_type": "execute_result"
    },
    {
     "data": {
      "image/png": "[encoded data removed]",
      "text/plain": [
       "<Figure size 432x288 with 1 Axes>"
      ]
     },
     "metadata": {
      "needs_background": "light"
     },
     "output_type": "display_data"
    }
   ],
   "source": [
    "ax = plt.figure().add_subplot(1, 1, 1)\n",
    "ax.set_xlabel('Room Number')\n",
    "ax.set_ylabel('Mean Price')\n",
    "buydb_grouped.mean() #count the mean value\n",
    "buydb_grouped.mean().plot.bar()\n",
    "plt.title('Mean price of different number of room')\n",
    "plt.savefig('dataset/mean_price_of_room_num.jpg', dpi=300)"
   ]
  },
  {
   "cell_type": "code",
   "execution_count": 22,
   "id": "38840ca5-6d1f-49c4-b699-b72ef9a8f5dc",
   "metadata": {},
   "outputs": [
    {
     "data": {
      "text/plain": [
       "Text(0.5, 0, 'Room Number')"
      ]
     },
     "execution_count": 22,
     "metadata": {},
     "output_type": "execute_result"
    },
    {
     "data": {
      "text/plain": [
       "Text(0, 0.5, 'Frequency')"
      ]
     },
     "execution_count": 22,
     "metadata": {},
     "output_type": "execute_result"
    },
    {
     "data": {
      "text/plain": [
       "room_num\n",
       "1     1028\n",
       "2      966\n",
       "3     1500\n",
       "4      814\n",
       "5      216\n",
       "6       97\n",
       "7       32\n",
       "8       19\n",
       "9        4\n",
       "10       6\n",
       "11       2\n",
       "12       2\n",
       "14       1\n",
       "16       1\n",
       "19       1\n",
       "25       2\n",
       "60       1\n",
       "64       1\n",
       "Name: price, dtype: int64"
      ]
     },
     "execution_count": 22,
     "metadata": {},
     "output_type": "execute_result"
    },
    {
     "data": {
      "text/plain": [
       "<AxesSubplot:xlabel='room_num', ylabel='Frequency'>"
      ]
     },
     "execution_count": 22,
     "metadata": {},
     "output_type": "execute_result"
    },
    {
     "data": {
      "text/plain": [
       "Text(0.5, 1.0, 'The count of different number of room')"
      ]
     },
     "execution_count": 22,
     "metadata": {},
     "output_type": "execute_result"
    },
    {
     "data": {
      "image/png": "[encoded data removed]",
      "text/plain": [
       "<Figure size 432x288 with 1 Axes>"
      ]
     },
     "metadata": {
      "needs_background": "light"
     },
     "output_type": "display_data"
    }
   ],
   "source": [
    "ax = plt.figure().add_subplot(1, 1, 1)\n",
    "ax.set_xlabel('Room Number')\n",
    "ax.set_ylabel('Frequency')\n",
    "buydb_grouped.count() #count the number\n",
    "buydb_grouped.count().plot.bar()\n",
    "plt.title('The count of different number of room')\n",
    "plt.savefig('dataset/frequency_of_room_num.jpg', dpi=300)"
   ]
  },
  {
   "cell_type": "code",
   "execution_count": 23,
   "id": "8414dcc8-d6c3-4501-a0e0-d599c603f589",
   "metadata": {},
   "outputs": [
    {
     "data": {
      "text/plain": [
       "mrt_name  room_num\n",
       "七張捷運站     7            88900.000000\n",
       "三重國小捷運站   3           115000.000000\n",
       "中山國中捷運站   1            38573.333333\n",
       "          2            60840.000000\n",
       "          3            92854.347826\n",
       "                          ...      \n",
       "龍山寺捷運站    4            57645.454545\n",
       "          5            36500.000000\n",
       "          7           113100.000000\n",
       "          8            84100.000000\n",
       "          64          664500.000000\n",
       "Name: price, Length: 446, dtype: float64"
      ]
     },
     "execution_count": 23,
     "metadata": {},
     "output_type": "execute_result"
    }
   ],
   "source": [
    "buydb_grouped2 = buydb_cleaned['price'].groupby([buydb_cleaned['mrt_name'], buydb_cleaned['room_num']]).mean()\n",
    "buydb_grouped2"
   ]
  },
  {
   "cell_type": "code",
   "execution_count": 24,
   "id": "8dcba8d0-bcd6-4c7e-92ea-0e38a530000f",
   "metadata": {},
   "outputs": [],
   "source": [
    "writer2 = pd.ExcelWriter('dataset/buydb_grouped.xlsx')\n",
    "buydb_grouped2.to_excel(writer2, 'Sheet1')\n",
    "writer2.save()"
   ]
  }
 ],
 "metadata": {
  "kernelspec": {
   "display_name": "Python 3",
   "language": "python",
   "name": "python3"
  },
  "language_info": {
   "codemirror_mode": {
    "name": "ipython",
    "version": 3
   },
   "file_extension": ".py",
   "mimetype": "text/x-python",
   "name": "python",
   "nbconvert_exporter": "python",
   "pygments_lexer": "ipython3",
   "version": "3.6.15"
  },
  "papermill": {
   "default_parameters": {},
   "duration": 22.597616,
   "end_time": "2021-12-18T08:18:51.754251",
   "environment_variables": {},
   "exception": null,
   "input_path": "__notebook__.ipynb",
   "output_path": "__notebook__.ipynb",
   "parameters": {},
   "start_time": "2021-12-18T08:18:29.156635",
   "version": "2.3.3"
  }
 },
 "nbformat": 4,
 "nbformat_minor": 5
}
